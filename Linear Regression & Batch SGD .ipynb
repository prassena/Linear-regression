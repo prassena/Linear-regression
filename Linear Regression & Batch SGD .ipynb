{
 "cells": [
  {
   "cell_type": "code",
   "execution_count": 1,
   "metadata": {
    "colab": {},
    "colab_type": "code",
    "id": "REYPoTJ1Af7u"
   },
   "outputs": [],
   "source": [
    "import warnings\n",
    "warnings.filterwarnings(\"ignore\")\n",
    "from sklearn.datasets import load_boston\n",
    "from random import seed\n",
    "from random import randrange\n",
    "from csv import reader\n",
    "from math import sqrt\n",
    "from sklearn import preprocessing\n",
    "import pandas as pd\n",
    "import numpy as np\n",
    "import matplotlib.pyplot as plt\n",
    "from prettytable import PrettyTable\n",
    "from sklearn.linear_model import SGDRegressor\n",
    "from sklearn import preprocessing\n",
    "from sklearn.metrics import mean_squared_error"
   ]
  },
  {
   "cell_type": "code",
   "execution_count": 2,
   "metadata": {},
   "outputs": [],
   "source": [
    "X = load_boston().data\n",
    "Y = load_boston().target"
   ]
  },
  {
   "cell_type": "code",
   "execution_count": 3,
   "metadata": {
    "colab": {},
    "colab_type": "code",
    "id": "NTQ2iH-kAwbo"
   },
   "outputs": [
    {
     "name": "stdout",
     "output_type": "stream",
     "text": [
      "22.00205711787997\n"
     ]
    }
   ],
   "source": [
    "scaler = preprocessing.StandardScaler().fit(X)\n",
    "X = scaler.transform(X)\n",
    "clf = SGDRegressor()\n",
    "clf.fit(X, Y)\n",
    "print(mean_squared_error(Y, clf.predict(X)))"
   ]
  },
  {
   "cell_type": "code",
   "execution_count": 4,
   "metadata": {},
   "outputs": [],
   "source": [
    "def slop_w (x,y,w,b):\n",
    "    w_slop = np.zeros_like(w.shape)\n",
    "    for i in range (0,x.shape[0]):\n",
    "        w_slop = w_slop + ((x[i])*(y[i]-np.matmul(w.T,x[i])-b))\n",
    "    return ((-2/x.shape[0])*w_slop)\n",
    "\n",
    "def slop_b (x,y,w,b):\n",
    "    b_slop = np.zeros_like(b.shape)\n",
    "    for i in range (0,x.shape[0]):\n",
    "        b_slop = b_slop + (y[i]-np.matmul(w.T,x[i])-b)\n",
    "    return ((-1/x.shape[0])*b_slop)"
   ]
  },
  {
   "cell_type": "code",
   "execution_count": 10,
   "metadata": {},
   "outputs": [
    {
     "data": {
      "text/plain": [
       "(array([0.58060155, 0.25811236, 0.84366468, 0.62942731, 0.78360414,\n",
       "        0.65082627, 0.1648758 , 0.52662634, 0.81244908, 0.69500066,\n",
       "        0.24181177, 0.85962437, 0.65391955]), array([0.59579637]))"
      ]
     },
     "execution_count": 10,
     "metadata": {},
     "output_type": "execute_result"
    }
   ],
   "source": [
    "w = np.random.random(X.shape[1])\n",
    "b = np.random.rand(1)\n",
    "r=0.0001\n",
    "w,b"
   ]
  },
  {
   "cell_type": "code",
   "execution_count": 15,
   "metadata": {},
   "outputs": [],
   "source": [
    "for i in range (0,60000):\n",
    "    rand_samp = np.random.randint(0,X.shape[0],20)\n",
    "    x,y = X[rand_samp],Y[rand_samp]\n",
    "    w = w - r*(slop_w(x,y,w,b))\n",
    "    b=  b - r*(slop_b(x,y,w,b))"
   ]
  },
  {
   "cell_type": "code",
   "execution_count": 16,
   "metadata": {},
   "outputs": [
    {
     "data": {
      "text/plain": [
       "(array([-0.88530107,  1.01948586, -0.04242963,  0.73291489, -1.97047598,\n",
       "         2.73907402, -0.0185387 , -3.08517848,  2.19592948, -1.57849087,\n",
       "        -2.04113617,  0.86592197, -3.7338131 ]), array([22.53277077]))"
      ]
     },
     "execution_count": 16,
     "metadata": {},
     "output_type": "execute_result"
    }
   ],
   "source": [
    "w,b"
   ]
  },
  {
   "cell_type": "code",
   "execution_count": 17,
   "metadata": {},
   "outputs": [],
   "source": [
    "ls=[]\n",
    "for i in X:\n",
    "    ls.append(np.matmul(w.T,i)+b)"
   ]
  },
  {
   "cell_type": "code",
   "execution_count": 18,
   "metadata": {},
   "outputs": [
    {
     "data": {
      "text/plain": [
       "21.931328177742735"
      ]
     },
     "execution_count": 18,
     "metadata": {},
     "output_type": "execute_result"
    }
   ],
   "source": [
    "mean_squared_error(Y,ls)"
   ]
  },
  {
   "cell_type": "code",
   "execution_count": null,
   "metadata": {},
   "outputs": [],
   "source": []
  }
 ],
 "metadata": {
  "colab": {
   "name": "Untitled3.ipynb",
   "provenance": [],
   "version": "0.3.2"
  },
  "kernelspec": {
   "display_name": "Python 3",
   "language": "python",
   "name": "python3"
  },
  "language_info": {
   "codemirror_mode": {
    "name": "ipython",
    "version": 3
   },
   "file_extension": ".py",
   "mimetype": "text/x-python",
   "name": "python",
   "nbconvert_exporter": "python",
   "pygments_lexer": "ipython3",
   "version": "3.7.3"
  }
 },
 "nbformat": 4,
 "nbformat_minor": 1
}
